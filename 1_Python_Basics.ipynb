{
 "cells": [
  {
   "cell_type": "markdown",
   "id": "4e9f0f15",
   "metadata": {},
   "source": [
    "# Python Basics"
   ]
  },
  {
   "cell_type": "code",
   "execution_count": 3,
   "id": "02d5c368",
   "metadata": {},
   "outputs": [
    {
     "name": "stdout",
     "output_type": "stream",
     "text": [
      "hello world\n"
     ]
    }
   ],
   "source": [
    "print(\"hello world\")"
   ]
  },
  {
   "cell_type": "markdown",
   "id": "f6abfe52",
   "metadata": {},
   "source": [
    "# Day 2\n",
    "Variables and Operators"
   ]
  },
  {
   "cell_type": "code",
   "execution_count": 5,
   "id": "5ea1ce96",
   "metadata": {},
   "outputs": [],
   "source": [
    "a = 10"
   ]
  },
  {
   "cell_type": "code",
   "execution_count": 6,
   "id": "6ce01e47",
   "metadata": {},
   "outputs": [
    {
     "name": "stdout",
     "output_type": "stream",
     "text": [
      "10\n"
     ]
    }
   ],
   "source": [
    "print(a)"
   ]
  },
  {
   "cell_type": "code",
   "execution_count": 7,
   "id": "313d33f6",
   "metadata": {},
   "outputs": [
    {
     "name": "stdout",
     "output_type": "stream",
     "text": [
      "a\n"
     ]
    }
   ],
   "source": [
    "print(\"a\")"
   ]
  },
  {
   "cell_type": "code",
   "execution_count": 8,
   "id": "87e5b11e",
   "metadata": {},
   "outputs": [],
   "source": [
    "student123 = 20"
   ]
  },
  {
   "cell_type": "code",
   "execution_count": 9,
   "id": "ff813406",
   "metadata": {},
   "outputs": [
    {
     "name": "stdout",
     "output_type": "stream",
     "text": [
      "20\n"
     ]
    }
   ],
   "source": [
    "print(student123)"
   ]
  },
  {
   "cell_type": "code",
   "execution_count": 10,
   "id": "577ad421",
   "metadata": {},
   "outputs": [],
   "source": [
    "# Python variables are case sensitive a, A are different."
   ]
  },
  {
   "cell_type": "markdown",
   "id": "c1d12a61",
   "metadata": {},
   "source": [
    "# Many values to multiple variables"
   ]
  },
  {
   "cell_type": "code",
   "execution_count": 11,
   "id": "ad6d4365",
   "metadata": {},
   "outputs": [
    {
     "name": "stdout",
     "output_type": "stream",
     "text": [
      "a b c\n"
     ]
    }
   ],
   "source": [
    "x, y, z = \"a\" \"b\" \"c\"\n",
    "print(x , y ,z)"
   ]
  },
  {
   "cell_type": "code",
   "execution_count": 12,
   "id": "ff02af17",
   "metadata": {},
   "outputs": [
    {
     "name": "stdout",
     "output_type": "stream",
     "text": [
      "a a a\n"
     ]
    }
   ],
   "source": [
    "#Possible to give same values to different variables\n",
    "x, y, z = \"a\" \"a\" \"a\"\n",
    "print(x , y ,z)"
   ]
  },
  {
   "cell_type": "markdown",
   "id": "8457c14e",
   "metadata": {},
   "source": [
    "# Python output Variable"
   ]
  },
  {
   "cell_type": "code",
   "execution_count": 13,
   "id": "c4489e63",
   "metadata": {},
   "outputs": [
    {
     "name": "stdout",
     "output_type": "stream",
     "text": [
      "Python is amazing\n",
      "\n",
      "x\n",
      "y\n",
      "z\n"
     ]
    }
   ],
   "source": [
    "x = \"Python\"\n",
    "y = \"is\"\n",
    "z = \"amazing\"\n",
    "\n",
    "print(x , y ,z)\n",
    "\n",
    "print()\n",
    "\n",
    "print(\"x\")\n",
    "print(\"y\")\n",
    "print(\"z\")"
   ]
  },
  {
   "cell_type": "markdown",
   "id": "15f08c5b",
   "metadata": {},
   "source": [
    "# Data Types"
   ]
  },
  {
   "cell_type": "code",
   "execution_count": 15,
   "id": "8cf8f2bf",
   "metadata": {},
   "outputs": [
    {
     "name": "stdout",
     "output_type": "stream",
     "text": [
      "10\n",
      "<class 'int'>\n"
     ]
    }
   ],
   "source": [
    "x = 10\n",
    "print(x)\n",
    "print(type(x))"
   ]
  },
  {
   "cell_type": "code",
   "execution_count": 16,
   "id": "c51b7ab4",
   "metadata": {},
   "outputs": [
    {
     "name": "stdout",
     "output_type": "stream",
     "text": [
      "10.5\n",
      "<class 'float'>\n"
     ]
    }
   ],
   "source": [
    "y = 10.5\n",
    "print(y)\n",
    "\n",
    "print(type(y))"
   ]
  },
  {
   "cell_type": "code",
   "execution_count": 21,
   "id": "3fd21d53",
   "metadata": {},
   "outputs": [
    {
     "name": "stdout",
     "output_type": "stream",
     "text": [
      "(2+5j)\n",
      "<class 'complex'>\n"
     ]
    }
   ],
   "source": [
    "z = 2+5j\n",
    "\n",
    "print(z)\n",
    "\n",
    "print(type(z))"
   ]
  },
  {
   "cell_type": "code",
   "execution_count": 23,
   "id": "08caa16b",
   "metadata": {},
   "outputs": [
    {
     "name": "stdout",
     "output_type": "stream",
     "text": [
      "This is Python Class\n",
      "<class 'str'>\n"
     ]
    }
   ],
   "source": [
    "a = \"This is Python Class\"\n",
    "\n",
    "print(a)\n",
    "\n",
    "print(type(a))"
   ]
  },
  {
   "cell_type": "markdown",
   "id": "f1753a0d",
   "metadata": {},
   "source": [
    "# Lists"
   ]
  },
  {
   "cell_type": "code",
   "execution_count": 25,
   "id": "fc15fcf9",
   "metadata": {},
   "outputs": [
    {
     "name": "stdout",
     "output_type": "stream",
     "text": [
      "[1, 2, 3, 4, 5, 6, 7, 8, 9, 10]\n",
      "<class 'list'>\n"
     ]
    }
   ],
   "source": [
    "#We can give multiple values to a variable using lists\n",
    "#Always uses quare brackets []\n",
    "\n",
    "b = [1,2,3,4,5,6,7,8,9,10]\n",
    "\n",
    "print(b)\n",
    "\n",
    "print(type(b))"
   ]
  },
  {
   "cell_type": "markdown",
   "id": "980fdddb",
   "metadata": {},
   "source": [
    "# Tuples"
   ]
  },
  {
   "cell_type": "code",
   "execution_count": 26,
   "id": "5fccc203",
   "metadata": {},
   "outputs": [
    {
     "name": "stdout",
     "output_type": "stream",
     "text": [
      "(1, 2, 3, 4, 5, 6, 7, 8, 9, 10)\n",
      "<class 'tuple'>\n"
     ]
    }
   ],
   "source": [
    "#Tuples always uses round brackets\n",
    "\n",
    "c = (1,2,3,4,5,6,7,8,9,10)\n",
    "\n",
    "print(c)\n",
    "\n",
    "print(type(c))"
   ]
  },
  {
   "cell_type": "code",
   "execution_count": 27,
   "id": "63f74e7b",
   "metadata": {},
   "outputs": [
    {
     "name": "stdout",
     "output_type": "stream",
     "text": [
      "Variable     Type       Data/Info\n",
      "---------------------------------\n",
      "a            str        This is Python Class\n",
      "b            list       n=10\n",
      "c            tuple      n=10\n",
      "student123   int        20\n",
      "x            int        10\n",
      "y            float      10.5\n",
      "z            complex    (2+5j)\n"
     ]
    }
   ],
   "source": [
    "# To know how many variales we have created we can use the %whos command \n",
    "\n",
    "%whos"
   ]
  },
  {
   "cell_type": "markdown",
   "id": "bcae8fa9",
   "metadata": {},
   "source": [
    "# Operators"
   ]
  },
  {
   "cell_type": "code",
   "execution_count": 28,
   "id": "b051ffcf",
   "metadata": {},
   "outputs": [
    {
     "name": "stdout",
     "output_type": "stream",
     "text": [
      "11\n"
     ]
    }
   ],
   "source": [
    "a = 5\n",
    "b = 6\n",
    "\n",
    "print(a + b)"
   ]
  },
  {
   "cell_type": "code",
   "execution_count": 29,
   "id": "d60695d2",
   "metadata": {},
   "outputs": [
    {
     "name": "stdout",
     "output_type": "stream",
     "text": [
      "7.5\n"
     ]
    }
   ],
   "source": [
    "a = 5\n",
    "b = 2.5\n",
    "\n",
    "print(a + b)"
   ]
  },
  {
   "cell_type": "code",
   "execution_count": 30,
   "id": "c0c30bc8",
   "metadata": {},
   "outputs": [
    {
     "name": "stdout",
     "output_type": "stream",
     "text": [
      "(7+5j)\n"
     ]
    }
   ],
   "source": [
    "a = 2 +5j\n",
    "\n",
    "b = 5\n",
    "\n",
    "print(a + b)"
   ]
  },
  {
   "cell_type": "code",
   "execution_count": 32,
   "id": "5d944258",
   "metadata": {},
   "outputs": [
    {
     "name": "stdout",
     "output_type": "stream",
     "text": [
      "hello students\n"
     ]
    }
   ],
   "source": [
    "a = \"hello\"\n",
    "\n",
    "b = \"students\"\n",
    "\n",
    "print(a + \" \" + b)"
   ]
  },
  {
   "cell_type": "code",
   "execution_count": 33,
   "id": "9184bf82",
   "metadata": {},
   "outputs": [],
   "source": [
    "# We can use + operator for strings. It will concanate the string\n",
    "# We cannot use the - operator for string"
   ]
  },
  {
   "cell_type": "code",
   "execution_count": 34,
   "id": "82c615b2",
   "metadata": {},
   "outputs": [
    {
     "name": "stdout",
     "output_type": "stream",
     "text": [
      "2.5\n"
     ]
    }
   ],
   "source": [
    "a = 5\n",
    "b = 2.5\n",
    "\n",
    "print(a - b)"
   ]
  },
  {
   "cell_type": "code",
   "execution_count": 35,
   "id": "ca5495a2",
   "metadata": {},
   "outputs": [
    {
     "name": "stdout",
     "output_type": "stream",
     "text": [
      "12.5\n"
     ]
    }
   ],
   "source": [
    "a = 5\n",
    "b = 2.5\n",
    "\n",
    "print(a * b)"
   ]
  },
  {
   "cell_type": "code",
   "execution_count": 36,
   "id": "d2a926f5",
   "metadata": {},
   "outputs": [
    {
     "name": "stdout",
     "output_type": "stream",
     "text": [
      "2.0\n"
     ]
    }
   ],
   "source": [
    "a = 20\n",
    "\n",
    "b = 10\n",
    "\n",
    "print(a/b)"
   ]
  },
  {
   "cell_type": "code",
   "execution_count": 37,
   "id": "1b5e0ad0",
   "metadata": {},
   "outputs": [],
   "source": [
    "#Modulus operator will return the remainder"
   ]
  },
  {
   "cell_type": "code",
   "execution_count": 38,
   "id": "35fd5a33",
   "metadata": {},
   "outputs": [
    {
     "name": "stdout",
     "output_type": "stream",
     "text": [
      "3\n"
     ]
    }
   ],
   "source": [
    "a = 18\n",
    "b = 5\n",
    "\n",
    "print(a%b)"
   ]
  },
  {
   "cell_type": "code",
   "execution_count": 39,
   "id": "b5d23b84",
   "metadata": {},
   "outputs": [
    {
     "name": "stdout",
     "output_type": "stream",
     "text": [
      "0\n"
     ]
    }
   ],
   "source": [
    "a = 15\n",
    "b = 5\n",
    "\n",
    "print(a%b)"
   ]
  },
  {
   "cell_type": "markdown",
   "id": "c4077bea",
   "metadata": {},
   "source": [
    "# Exponent"
   ]
  },
  {
   "cell_type": "code",
   "execution_count": 41,
   "id": "6f433a27",
   "metadata": {},
   "outputs": [
    {
     "name": "stdout",
     "output_type": "stream",
     "text": [
      "34745394200745606905665555285219580758194607762091719005431893979236245390535477916604522372090242628042633862247999472289264870618412450561654784\n"
     ]
    }
   ],
   "source": [
    "a = 4125678\n",
    "\n",
    "print(a**22)  #will return the exponent of a to 22"
   ]
  },
  {
   "cell_type": "markdown",
   "id": "95a35272",
   "metadata": {},
   "source": [
    "\n",
    "# Logical Operators"
   ]
  },
  {
   "cell_type": "code",
   "execution_count": 42,
   "id": "28accaab",
   "metadata": {},
   "outputs": [
    {
     "name": "stdout",
     "output_type": "stream",
     "text": [
      "True\n"
     ]
    }
   ],
   "source": [
    "a = True\n",
    "\n",
    "b = True\n",
    "\n",
    "print(a or b)"
   ]
  },
  {
   "cell_type": "code",
   "execution_count": 43,
   "id": "99416fcf",
   "metadata": {},
   "outputs": [
    {
     "name": "stdout",
     "output_type": "stream",
     "text": [
      "False\n"
     ]
    }
   ],
   "source": [
    "a = True\n",
    "\n",
    "b = False\n",
    "\n",
    "print(a and b)"
   ]
  },
  {
   "cell_type": "code",
   "execution_count": 44,
   "id": "771a3d06",
   "metadata": {},
   "outputs": [
    {
     "name": "stdout",
     "output_type": "stream",
     "text": [
      "False\n"
     ]
    }
   ],
   "source": [
    "# not operator\n",
    "\n",
    "a = True\n",
    "\n",
    "b = True\n",
    "\n",
    "print(not a)"
   ]
  },
  {
   "cell_type": "code",
   "execution_count": 45,
   "id": "1444b46e",
   "metadata": {},
   "outputs": [
    {
     "name": "stdout",
     "output_type": "stream",
     "text": [
      "True\n"
     ]
    }
   ],
   "source": [
    "a = False\n",
    "\n",
    "b = True\n",
    "\n",
    "print(not a)"
   ]
  },
  {
   "cell_type": "code",
   "execution_count": null,
   "id": "79c84b42",
   "metadata": {},
   "outputs": [],
   "source": []
  }
 ],
 "metadata": {
  "kernelspec": {
   "display_name": "Python 3 (ipykernel)",
   "language": "python",
   "name": "python3"
  },
  "language_info": {
   "codemirror_mode": {
    "name": "ipython",
    "version": 3
   },
   "file_extension": ".py",
   "mimetype": "text/x-python",
   "name": "python",
   "nbconvert_exporter": "python",
   "pygments_lexer": "ipython3",
   "version": "3.9.7"
  }
 },
 "nbformat": 4,
 "nbformat_minor": 5
}
